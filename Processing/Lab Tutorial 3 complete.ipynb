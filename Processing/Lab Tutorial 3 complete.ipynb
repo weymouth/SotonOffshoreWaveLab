{
 "cells": [
  {
   "cell_type": "markdown",
   "metadata": {},
   "source": [
    "## Data processing for Moored and DP Platforms\n",
    "\n",
    "By the end of this tutorial, you will be able to: \n",
    "\n",
    "### Handle strain data from the moored platform\n",
    "- 1.1 read qualisys data and synchronize strain measurements\n",
    "- 1.2 calibrate strain guage readings\n",
    "- 1.3 plot displacement and tension for the moored platform\n",
    "\n",
    "### Handle thrust data from the DP platform (Smarty)\n",
    "- 2.1 apply the equivalent pipeline for the DP platform\n"
   ]
  },
  {
   "cell_type": "markdown",
   "metadata": {},
   "source": [
    "### Data processing pipeline for moored platform\n",
    "\n",
    "Figure below explains the data processing pipeline for moored platform.\n",
    "\n",
    "![Data processing schematic for moored platform](pipeline_diagram_smarty.png)"
   ]
  },
  {
   "cell_type": "markdown",
   "metadata": {},
   "source": [
    "### 1.1 Synchronize qualisys and strain measurements"
   ]
  },
  {
   "cell_type": "code",
   "execution_count": null,
   "metadata": {},
   "outputs": [],
   "source": [
    "# import libraries\n",
    "from analysis import *\n",
    "# make sure you use the latest version as there is a small modification!!\n",
    "import numpy as np\n",
    "import pandas as pd\n",
    "import matplotlib.pyplot as plt"
   ]
  },
  {
   "cell_type": "code",
   "execution_count": null,
   "metadata": {},
   "outputs": [],
   "source": [
    "filename = '../Qualisys/run0008_0009_6D.tsv'\n",
    "#filename = '../Qualisys/run0011_6D.tsv'\n",
    "moored_qualisys_df = read_moored(filename)\n",
    "list(moored_qualisys_df)"
   ]
  },
  {
   "cell_type": "markdown",
   "metadata": {},
   "source": [
    "Plot the displacement in the wave direction (remember this was q_3 from last week)"
   ]
  },
  {
   "cell_type": "code",
   "execution_count": null,
   "metadata": {},
   "outputs": [],
   "source": [
    "plt.plot(moored_qualisys_df['time'], moored_qualisys_df['q_3'],'b.',markersize=1)"
   ]
  },
  {
   "cell_type": "markdown",
   "metadata": {},
   "source": [
    "Remember qualisys reports position as __zero__ when it can't detect the the platform. We can filter these using \"query\"."
   ]
  },
  {
   "cell_type": "code",
   "execution_count": null,
   "metadata": {},
   "outputs": [],
   "source": [
    "# select all points with non-zero displacement\n",
    "moored_qualisys_df = moored_qualisys_df.query('q_3!=0') \n",
    "\n",
    "plt.plot(moored_qualisys_df['time'], moored_qualisys_df['q_3'],'b.',markersize=1)"
   ]
  },
  {
   "cell_type": "markdown",
   "metadata": {},
   "source": [
    "We are only interested in the data once the waves arrive at the platform. We can search for this when using a threshold search function."
   ]
  },
  {
   "cell_type": "code",
   "execution_count": null,
   "metadata": {},
   "outputs": [],
   "source": [
    "def detect_start_index(df, parameter, threshold, delay=0):\n",
    "    \n",
    "    for index, row in df.iterrows():\n",
    "        if row['time'] > delay:\n",
    "            break\n",
    "    \n",
    "    #store start index and start value\n",
    "    start_index = index\n",
    "    start_value = df[parameter][index]\n",
    "   \n",
    "    #return index when parameter next deviates by more than the threshold\n",
    "    for index, row in df.iterrows():\n",
    "        if row['time'] > delay:\n",
    "            if df[parameter][index] > start_value+threshold or df[parameter][index] < start_value-threshold:\n",
    "                break\n",
    "    \n",
    "    #plot to see what value has been found\n",
    "    plt.plot(df['time'], df[parameter],'b.',markersize=1)\n",
    "    plt.plot(df['time'][index], df[parameter][index],'ro',markersize=10)    \n",
    "    return index\n",
    "\n",
    "# search for start of second run (hint ~approx 550s)\n",
    "start_qualisys=detect_start_index(moored_qualisys_df,'q_3',0.05, 550)\n",
    "print(moored_qualisys_df['time'][start_qualisys])"
   ]
  },
  {
   "cell_type": "markdown",
   "metadata": {},
   "source": [
    "The next step is to trim the dataset and measure time and displacement from this starting index"
   ]
  },
  {
   "cell_type": "code",
   "execution_count": null,
   "metadata": {},
   "outputs": [],
   "source": [
    "moored_qualisys_df_truncated = moored_qualisys_df\n",
    "\n",
    "moored_qualisys_df_truncated['time'] = moored_qualisys_df['time'] - moored_qualisys_df['time'][start_qualisys]\n",
    "moored_qualisys_df_truncated['q_3'] = moored_qualisys_df['q_3'] - moored_qualisys_df['q_3'][start_qualisys]\n",
    "\n",
    "#use query to just capture the increasing displasement when the mooring line is being stretched\n",
    "moored_qualisys_df_truncated = moored_qualisys_df_truncated.query('0<time<60')\n",
    "\n",
    "#plot\n",
    "plt.plot(moored_qualisys_df_truncated['time'], moored_qualisys_df_truncated['q_3'],'b.')"
   ]
  },
  {
   "cell_type": "markdown",
   "metadata": {},
   "source": [
    "Now we repeat the same procedure for the straing measurements"
   ]
  },
  {
   "cell_type": "code",
   "execution_count": null,
   "metadata": {},
   "outputs": [],
   "source": [
    "moored_strain_df = pd.read_csv('../MooredStrain/run8_9/strain.csv')\n",
    "list(moored_strain_df)"
   ]
  },
  {
   "cell_type": "code",
   "execution_count": null,
   "metadata": {},
   "outputs": [],
   "source": [
    "# epoch?\n",
    "print(moored_strain_df['epoch_time'][0])\n",
    "\n",
    "# create a field for elapsed 'time' from start of acquisition \n",
    "moored_strain_df['time']=moored_strain_df['epoch_time']-moored_strain_df['epoch_time'][0]\n",
    "plt.plot(moored_strain_df['time'], moored_strain_df[' strain'])"
   ]
  },
  {
   "cell_type": "markdown",
   "metadata": {},
   "source": [
    "Detect the start of the 2nd run as for qualisys"
   ]
  },
  {
   "cell_type": "code",
   "execution_count": null,
   "metadata": {},
   "outputs": [],
   "source": [
    "start_strain = detect_start_index(moored_strain_df, ' strain', 3, 350)\n",
    "print (moored_strain_df['time'][start_strain])"
   ]
  },
  {
   "cell_type": "markdown",
   "metadata": {},
   "source": [
    "Trim data to get the bit we are interested in and measure strain relative to initial condition"
   ]
  },
  {
   "cell_type": "code",
   "execution_count": null,
   "metadata": {},
   "outputs": [],
   "source": [
    "moored_strain_df_truncated = moored_strain_df\n",
    "\n",
    "moored_strain_df_truncated['time'] = moored_strain_df['time'] - moored_strain_df['time'][start_strain]\n",
    "moored_strain_df_truncated[' strain'] = moored_strain_df[' strain'] - moored_strain_df[' strain'][start_strain]\n",
    "\n",
    "# use query as before \n",
    "moored_strain_df_truncated = moored_strain_df_truncated.query('0<time<60')\n",
    "\n",
    "#plot\n",
    "plt.plot(moored_strain_df_truncated['time'], moored_strain_df_truncated[' strain'])"
   ]
  },
  {
   "cell_type": "markdown",
   "metadata": {},
   "source": [
    "To synchronize datasets, first check sampling frequencies."
   ]
  },
  {
   "cell_type": "code",
   "execution_count": null,
   "metadata": {},
   "outputs": [],
   "source": [
    "# strain\n",
    "plt.plot (moored_strain_df_truncated.time.diff(),'r.',markersize=2)\n",
    "moored_strain_frequency = 1/moored_strain_df_truncated.time.diff().mean()\n",
    "print (\"Mean frequency: \", moored_strain_frequency, \"Hz\")"
   ]
  },
  {
   "cell_type": "markdown",
   "metadata": {},
   "source": [
    "What do you notice about the qualisys plot? is mean a good representation?"
   ]
  },
  {
   "cell_type": "code",
   "execution_count": null,
   "metadata": {},
   "outputs": [],
   "source": [
    "# qualisys\n",
    "plt.plot (moored_qualisys_df_truncated.time.diff(),'k.',markersize=2)\n",
    "moored_qualisys_frequency = 1/moored_qualisys_df_truncated.time.diff().mean()\n",
    "print (\"Meanfrequency: \", moored_qualisys_frequency, \"Hz\")\n",
    "\n",
    "#alternative to mean that is more representitive?\n",
    "print (\"Mode frequency: \", 1/moored_qualisys_df.time.diff().mode(), \"Hz\")\n",
    "plt.ylim(0,0.05)"
   ]
  },
  {
   "cell_type": "markdown",
   "metadata": {},
   "source": [
    "We want to match to a common frequency. What would make sense?"
   ]
  },
  {
   "cell_type": "code",
   "execution_count": null,
   "metadata": {},
   "outputs": [],
   "source": [
    "moored_qualisys_frequency = 10 # Hz\n",
    "#resampling from strain frequency to qualisys frequency\n",
    "moored_strain_df_truncated = resample_evenly(moored_strain_df_truncated, moored_qualisys_frequency)\n",
    "\n",
    "#resampling qualisys to fill missing values\n",
    "moored_qualisys_df_truncated = resample_evenly(moored_qualisys_df_truncated, moored_qualisys_frequency)"
   ]
  },
  {
   "cell_type": "markdown",
   "metadata": {},
   "source": [
    "Check!"
   ]
  },
  {
   "cell_type": "code",
   "execution_count": null,
   "metadata": {},
   "outputs": [],
   "source": [
    "moored_strain_frequency = 1/moored_strain_df_truncated.time.diff().mean()\n",
    "print (\"Mean sampling period: \", 1/moored_strain_frequency, \"seconds\")\n",
    "print (\"Mean sampling frequency: \", moored_strain_frequency, \"Hz\")\n",
    "\n",
    "moored_qualisys_frequency = 1/moored_qualisys_df_truncated.time.diff().mean()\n",
    "print (\"Mean sampling period: \", 1/moored_qualisys_frequency, \"seconds\")\n",
    "print (\"Mean sampling frequency: \", moored_qualisys_frequency, \"Hz\")\n"
   ]
  },
  {
   "cell_type": "markdown",
   "metadata": {},
   "source": [
    "### 1.2 Calibrate strain gauge measurements\n",
    "\n",
    "Strain gauge can be calibrated to tension (N) using (calibratrion.csv)."
   ]
  },
  {
   "cell_type": "code",
   "execution_count": null,
   "metadata": {},
   "outputs": [],
   "source": [
    "# read in the calibration data\n",
    "moored_calibration = pd.read_csv('../MooredStrain/calibration.csv')\n",
    "list(moored_calibration)"
   ]
  },
  {
   "cell_type": "markdown",
   "metadata": {},
   "source": [
    "Plot mass (kg) vs force (N). Is this what you would expect?"
   ]
  },
  {
   "cell_type": "code",
   "execution_count": null,
   "metadata": {},
   "outputs": [],
   "source": [
    "gravity = 9.81\n",
    "moored_calibration['Tension (N)']  = moored_calibration['mass (kg)']*gravity\n",
    "plt.plot(moored_calibration[' AD value'], moored_calibration['Tension (N)'],'ro')\n",
    "plt.xlabel(\"AD\")\n",
    "plt.ylabel(\"Tension [N]\")"
   ]
  },
  {
   "cell_type": "markdown",
   "metadata": {},
   "source": [
    "Fit a line of best fit."
   ]
  },
  {
   "cell_type": "code",
   "execution_count": null,
   "metadata": {},
   "outputs": [],
   "source": [
    "order = 1\n",
    "[slope,intercept] = np.polyfit(moored_calibration[' AD value'], moored_calibration['Tension (N)'], order)\n",
    "print (\"Slope: \",slope, \"\\tIntercept: \", intercept)"
   ]
  },
  {
   "cell_type": "code",
   "execution_count": null,
   "metadata": {},
   "outputs": [],
   "source": [
    "def apply_calibration(data_frame, column_to_calibrate, slope,intercept,label_for_calibrated_data):\n",
    "    data_frame[label_for_calibrated_data] = slope*data_frame[column_to_calibrate]+intercept\n",
    "    return\n",
    "\n",
    "# now use the subroutine to  apply the linear model to our calibration data\n",
    "apply_calibration(moored_calibration,' AD value', slope, intercept, 'Calibrated Tension (N)')\n",
    "\n",
    "plt.plot(moored_calibration[' AD value'], moored_calibration['Tension (N)'],'ro')\n",
    "plt.plot(moored_calibration[' AD value'], moored_calibration['Calibrated Tension (N)'],'k-')\n",
    "plt.xlabel(\"AD value\")\n",
    "plt.ylabel(\"Tension [N]\")"
   ]
  },
  {
   "cell_type": "code",
   "execution_count": null,
   "metadata": {},
   "outputs": [],
   "source": [
    "apply_calibration(moored_strain_df_truncated,[' strain'], slope, intercept, 'Tension (N)')\n",
    "\n",
    "plt.plot(moored_strain_df_truncated['time'], moored_strain_df_truncated['Tension (N)'])\n",
    "plt.grid(True)"
   ]
  },
  {
   "cell_type": "markdown",
   "metadata": {},
   "source": [
    "__NOTE__: the initial value should be our steady state (no load) scenario. We must substract the Tension(N) value from the first sample"
   ]
  },
  {
   "cell_type": "code",
   "execution_count": null,
   "metadata": {},
   "outputs": [],
   "source": [
    "tension = moored_strain_df_truncated['Tension (N)']-moored_strain_df_truncated['Tension (N)'][0]\n",
    "displacement = abs(moored_qualisys_df_truncated['q_3'])\n",
    "\n",
    "print(len(tension),len(displacement))\n",
    "\n",
    "#  plot displacement vs strain\n",
    "upper_lim=min(len(tension),len(displacement))\n",
    "plt.plot(displacement[0:upper_lim], tension[0:upper_lim], 'ro', markersize=3)\n",
    "plt.grid(True)"
   ]
  },
  {
   "cell_type": "markdown",
   "metadata": {},
   "source": [
    "Does the plot make sense ? Do the values have a sensible order? Why is the  so noisey and what can you do to reduces it?\n",
    "\n",
    "\n",
    ".\n",
    "\n",
    ".\n",
    "\n",
    ".\n",
    "\n",
    ".\n",
    "\n",
    ".\n",
    "\n",
    ".\n",
    "\n",
    ".\n",
    "\n",
    ".\n",
    "\n",
    ".\n",
    "\n",
    ".\n",
    "\n",
    ".\n",
    "\n",
    ".\n",
    ".\n",
    ".\n",
    "\n",
    ".\n",
    "\n",
    ".\n",
    "\n",
    ".\n",
    "\n",
    ".\n",
    "\n",
    ".\n",
    "\n",
    ".\n",
    "\n",
    ".\n",
    "\n",
    ".\n",
    "\n",
    ".\n",
    "\n",
    ".\n",
    "\n",
    ".\n",
    "\n",
    ".\n",
    "\n",
    ".\n",
    "\n",
    ".\n",
    "\n",
    ".\n",
    "\n",
    "\n",
    "\n",
    "\n",
    "\n",
    "\n",
    "\n",
    "\n",
    "\n",
    "\n",
    "\n",
    "\n",
    "\n",
    "\n",
    "\n",
    "\n",
    "\n",
    "\n",
    "\n",
    "\n",
    "\n",
    "\n",
    "\n",
    "\n",
    "\n",
    "\n",
    "\n",
    "\n",
    "\n",
    "\n",
    "\n",
    "\n",
    "\n",
    "\n",
    "\n",
    "\n",
    "\n",
    "\n",
    "\n",
    "# Task for later\n",
    "Consider both X and Y displacement? Perform frequency analysis to extract mean load"
   ]
  },
  {
   "cell_type": "markdown",
   "metadata": {},
   "source": [
    "# 2. Processing for DP (dynamic positioning) platform - [SMARTY]\n",
    "\n",
    "Figure below explains the data processing pipeline for the DP platform.\n",
    "\n",
    "\n",
    "![alt text](pipeline_diagram_smarty.png \"Data processing schematic for moored platform\")"
   ]
  },
  {
   "cell_type": "code",
   "execution_count": null,
   "metadata": {},
   "outputs": [],
   "source": [
    "filename = '../Qualisys/run0008_0009_6D.tsv'\n",
    "dp_qualisys_df = read_smarty(filename)\n",
    "\n",
    "#filter\n",
    "dp_qualisys_df=dp_qualisys_df.query('q_3!=0')\n",
    "\n",
    "#plot\n",
    "plt.plot(dp_qualisys_df['time'],dp_qualisys_df['q_3'])"
   ]
  },
  {
   "cell_type": "code",
   "execution_count": null,
   "metadata": {},
   "outputs": [],
   "source": [
    "dp_thruster_df = pd.read_csv('../Smarty/run8_9/thrust_inertial.csv')\n",
    "list(dp_thruster_df)"
   ]
  },
  {
   "cell_type": "code",
   "execution_count": null,
   "metadata": {},
   "outputs": [],
   "source": [
    "# create a field for elapsed 'time' from start of acquisition \n",
    "dp_thruster_df['time']=dp_thruster_df['epoch_time']-dp_thruster_df['epoch_time'][0]\n",
    "\n",
    "plt.plot(dp_thruster_df['time'],dp_thruster_df[' thrust_north (N)'])\n",
    "plt.plot(dp_thruster_df['time'],dp_thruster_df[' thrust_east (N)'])\n",
    "plt.legend()"
   ]
  },
  {
   "cell_type": "markdown",
   "metadata": {},
   "source": [
    "Do the numbers make sense?\n",
    "\n",
    "# Task for later\n",
    "\n",
    "1. Detection of start time\n",
    "2. Calculate distance from the target point (q_3, q_4 = [0, -3.5])\n",
    "2. Resample to a uniform sampling frequency\n",
    "3. Plot thruster force vs displacement"
   ]
  },
  {
   "cell_type": "code",
   "execution_count": null,
   "metadata": {},
   "outputs": [],
   "source": []
  }
 ],
 "metadata": {
  "kernelspec": {
   "display_name": "Python 3",
   "language": "python",
   "name": "python3"
  },
  "language_info": {
   "codemirror_mode": {
    "name": "ipython",
    "version": 3
   },
   "file_extension": ".py",
   "mimetype": "text/x-python",
   "name": "python",
   "nbconvert_exporter": "python",
   "pygments_lexer": "ipython3",
   "version": "3.7.3"
  }
 },
 "nbformat": 4,
 "nbformat_minor": 2
}
