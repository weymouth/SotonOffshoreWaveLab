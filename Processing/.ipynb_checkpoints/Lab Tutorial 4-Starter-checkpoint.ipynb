{
 "cells": [
  {
   "cell_type": "markdown",
   "metadata": {},
   "source": [
    "### Lab Tutorials\n",
    "\n",
    "## Tutorial 4: Frequency analysis\n",
    "\n",
    "This tutorial will take a look at dynamic motions and loads using frequency analysis. \n",
    "\n",
    "Start by importing the same libraries."
   ]
  },
  {
   "cell_type": "code",
   "execution_count": null,
   "metadata": {},
   "outputs": [],
   "source": [
    "from analysis import *\n",
    "import numpy as np\n",
    "import pandas as pd\n",
    "import matplotlib.pyplot as plt\n",
    "pd.options.display.max_rows = 20"
   ]
  },
  {
   "cell_type": "markdown",
   "metadata": {},
   "source": [
    "Next, lets read in the wave data as we did in tutorial 1."
   ]
  },
  {
   "cell_type": "code",
   "execution_count": null,
   "metadata": {},
   "outputs": [],
   "source": [
    "filename = '../WaveProbe/run8_9.csv'\n",
    "(read_waves(filename)\n",
    "#  .query('??')\n",
    " .plot(x='time'))"
   ]
  },
  {
   "cell_type": "markdown",
   "metadata": {},
   "source": [
    "Note the amplitude is around $0.4m$, and (zooming in) the frequency is around $16/20 = 0.8 Hz$\n",
    "\n",
    "The `analysis.py` file has a function to take the [Fast Fourier Transform (FFT)](https://docs.scipy.org/doc/numpy-1.13.0/reference/routines.fft.html) of a data frame. Let's apply it to a run."
   ]
  },
  {
   "cell_type": "code",
   "execution_count": null,
   "metadata": {},
   "outputs": [],
   "source": [
    "(read_waves(filename)\n",
    "#  .query('??')\n",
    "#  .pipe(??))"
   ]
  },
  {
   "cell_type": "markdown",
   "metadata": {},
   "source": [
    "The function has converted time to frequency and replaced our signal with its FFT.\n",
    "\n",
    "Recall that an FFT determines the amplitude of sinusoids at every frequency which add together to reproduce the signal. The frequency bins are determined by the sampling rate and duration of the signal. Let's plot this data."
   ]
  },
  {
   "cell_type": "code",
   "execution_count": null,
   "metadata": {},
   "outputs": [],
   "source": [
    "(read_waves(filename)\n",
    "#  .query('??')\n",
    "#  .pipe(??)\n",
    "#  .query('??')\n",
    "#  .plot(??));"
   ]
  },
  {
   "cell_type": "markdown",
   "metadata": {},
   "source": [
    "This data looks rough on a log scale since very small amplitudes can be seen clearly. However, there is a clear peak at $0.8~Hz$ with amplitude around $0.04~m$, as we guessed from the time trace. However, the FFT shows there are also smaller peaks at $1.6,2.4,3.2~Hz$; these are the high-order _wave harmonics_ we discussed in lecture.\n",
    "\n",
    "Next, lets repeat this analysis for the wave forcing on the fixed platform. "
   ]
  },
  {
   "cell_type": "code",
   "execution_count": null,
   "metadata": {},
   "outputs": [],
   "source": [
    "(read_fixed_strain('../FixedStrain/run8.txt')\n",
    "#  .query('??')\n",
    "#  .pipe(??)\n",
    "#  .query('??')\n",
    "#  .plot(??));"
   ]
  },
  {
   "cell_type": "markdown",
   "metadata": {},
   "source": [
    "The two lines have different units, so comparing their relative magnitudes is meaningless. However, the plot clearly shows that __the peak force on the piling occurs at the peak wave frequency__.\n",
    "\n",
    "Also notice that since we don't have very many cycles, our frequency resolution isn't nearly as good. This is why we wanted as many waves as possible in the experiments. \n",
    "\n",
    "How about the motions? Let's take a look."
   ]
  },
  {
   "cell_type": "code",
   "execution_count": null,
   "metadata": {},
   "outputs": [],
   "source": [
    "(read_qualisys('../Qualisys/run0008_0009_6D.tsv',19)\n",
    "#  .query('??')\n",
    "#  .pipe(??)\n",
    "#  .query('??')\n",
    "#  .plot(??));"
   ]
  },
  {
   "cell_type": "markdown",
   "metadata": {},
   "source": [
    "Just as with the forces, the platforms are both heaving at the wave frequency and it's harmonics. \n",
    "\n",
    "How should this be extended to the irregular wave case?"
   ]
  }
 ],
 "metadata": {
  "kernelspec": {
   "display_name": "Python 3",
   "language": "python",
   "name": "python3"
  },
  "language_info": {
   "codemirror_mode": {
    "name": "ipython",
    "version": 3
   },
   "file_extension": ".py",
   "mimetype": "text/x-python",
   "name": "python",
   "nbconvert_exporter": "python",
   "pygments_lexer": "ipython3",
   "version": "3.6.0"
  }
 },
 "nbformat": 4,
 "nbformat_minor": 2
}
