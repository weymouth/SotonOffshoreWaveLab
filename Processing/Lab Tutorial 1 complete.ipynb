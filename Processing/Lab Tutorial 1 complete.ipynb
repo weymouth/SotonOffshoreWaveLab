{
 "cells": [
  {
   "cell_type": "markdown",
   "metadata": {},
   "source": [
    "# Lab Tutorials\n",
    "\n",
    "This workbook will go over the material covered to perform analysis on the data you gathered in the wave lab. \n",
    "\n",
    "There are nearly a hundred files and many hundreds of thousands of records in the data set you collected. While this would be painful bordering on impossible in Excel, it can be done easily using a programming language. While Matlab or R are options, we will use [Python](https://www.python.org/) because it has one of the very best data analysis libraries, it is easy to use, and is open source. \n",
    "\n",
    "Programming is one of the most employable skills you can develop. If you have never done any programming before, you should start by completing a basic tutorial course. The [offshore blakboard site](https://blackboard.soton.ac.uk/webapps/blackboard/content/listContentEditable.jsp?content_id=_3963975_1&course_id=_183392_1) has a link to two such tutorials, but there are literally hundreds of other options on the web. These typically only take around 2-4 hours to complete and will make all the difference to a novice completing the lab report.\n",
    "\n",
    "### Preliminaries\n",
    "\n",
    "This document was written as a [Jupyter notebook](http://jupyter.org/). If you are using your own computer you should download and install [Anaconda](https://www.anaconda.com/download) which include Python, Jupyter and all the major Python packages. The university computers already have anaconda installed. \n",
    "\n",
    "You should also download [the lab data file](https://www.dropbox.com/s/1xvxhoi09mzd85g/wavelab2018.zip?dl=0). This has all the data from the lab groups. Copy this notebook file into the `Processing` folder of that zip file. There is already a python file called `analysis.py` in that folder. \n",
    "\n",
    "Open this notebook file with Jupyter (choose Python 3 if you are given the option) put our cursor in the following cell and run the cell either by clicking the run botton above or typing `SHIFT+RETURN`."
   ]
  },
  {
   "cell_type": "code",
   "execution_count": 1,
   "metadata": {},
   "outputs": [],
   "source": [
    "from analysis import *"
   ]
  },
  {
   "cell_type": "markdown",
   "metadata": {},
   "source": [
    "This imports the functions in the `analysis.py` file. This script defines some functions to read in data and preform some standard analysis techniques (like [an FFT](https://en.wikipedia.org/wiki/Fast_Fourier_transform)). Importing it makes those functions available to use. If the code didn't work, then make sure you have this file in the same folder as the `analysis.py` file.\n",
    "\n",
    "\n",
    "## Tutorial 1: Basic data operations\n",
    "\n",
    "\n",
    "We will also import a numeric library for python `numpy`, the data analysis library `pandas`, and the plotting library `pyplot`. Again, you need to run each of these cells to get the following ones to work. You can also restart the notebook and/or run all the cells from the `Kernel` menu above."
   ]
  },
  {
   "cell_type": "code",
   "execution_count": 2,
   "metadata": {},
   "outputs": [],
   "source": [
    "import numpy as np\n",
    "import pandas as pd\n",
    "import matplotlib.pyplot as plt"
   ]
  },
  {
   "cell_type": "markdown",
   "metadata": {},
   "source": [
    "### Creating, writting, and manipulating dataframes\n",
    "\n",
    "Let's start by creating a table of data. In Pandas, this is called a `DataFrame`. As an example let use the data collected by three of the lab groups on the properties of the mooring line."
   ]
  },
  {
   "cell_type": "code",
   "execution_count": 3,
   "metadata": {},
   "outputs": [
    {
     "data": {
      "text/html": [
       "<div>\n",
       "<style scoped>\n",
       "    .dataframe tbody tr th:only-of-type {\n",
       "        vertical-align: middle;\n",
       "    }\n",
       "\n",
       "    .dataframe tbody tr th {\n",
       "        vertical-align: top;\n",
       "    }\n",
       "\n",
       "    .dataframe thead th {\n",
       "        text-align: right;\n",
       "    }\n",
       "</style>\n",
       "<table border=\"1\" class=\"dataframe\">\n",
       "  <thead>\n",
       "    <tr style=\"text-align: right;\">\n",
       "      <th></th>\n",
       "      <th>length</th>\n",
       "      <th>mass</th>\n",
       "      <th>volume</th>\n",
       "    </tr>\n",
       "  </thead>\n",
       "  <tbody>\n",
       "    <tr>\n",
       "      <th>0</th>\n",
       "      <td>10.0</td>\n",
       "      <td>1.15</td>\n",
       "      <td>0.00010</td>\n",
       "    </tr>\n",
       "    <tr>\n",
       "      <th>1</th>\n",
       "      <td>10.2</td>\n",
       "      <td>1.17</td>\n",
       "      <td>0.00013</td>\n",
       "    </tr>\n",
       "    <tr>\n",
       "      <th>2</th>\n",
       "      <td>10.1</td>\n",
       "      <td>1.12</td>\n",
       "      <td>0.00018</td>\n",
       "    </tr>\n",
       "  </tbody>\n",
       "</table>\n",
       "</div>"
      ],
      "text/plain": [
       "   length  mass   volume\n",
       "0    10.0  1.15  0.00010\n",
       "1    10.2  1.17  0.00013\n",
       "2    10.1  1.12  0.00018"
      ]
     },
     "execution_count": 3,
     "metadata": {},
     "output_type": "execute_result"
    }
   ],
   "source": [
    "mooringlineDF = pd.DataFrame({'length':[10.,10.2,10.1],\n",
    "                              'mass':[1.15,1.17,1.12],\n",
    "                              'volume':[1e-4,1.3E-4,0.00018]})\n",
    "mooringlineDF"
   ]
  },
  {
   "cell_type": "markdown",
   "metadata": {},
   "source": [
    "The variable `mooringlineDF` holds the full table of data. Writing the name by itself at the end of the cell should print the values. If not, replace that line with `print(mooringlineDF)`\n",
    "\n",
    "We can get statistics of a DataFrame easily in Pandas. For example lets use the `mean` of the measurements as our \"lab truth\""
   ]
  },
  {
   "cell_type": "code",
   "execution_count": 4,
   "metadata": {},
   "outputs": [
    {
     "data": {
      "text/plain": [
       "length    10.100000\n",
       "mass       1.146667\n",
       "volume     0.000137\n",
       "dtype: float64"
      ]
     },
     "execution_count": 4,
     "metadata": {},
     "output_type": "execute_result"
    }
   ],
   "source": [
    "mooringline = mooringlineDF.mean()\n",
    "mooringline"
   ]
  },
  {
   "cell_type": "markdown",
   "metadata": {},
   "source": [
    "We can also create a new \"column\" of the DataFrame using formulas or functions. "
   ]
  },
  {
   "cell_type": "code",
   "execution_count": 5,
   "metadata": {},
   "outputs": [
    {
     "data": {
      "text/plain": [
       "length          10.100000\n",
       "mass             1.146667\n",
       "volume           0.000137\n",
       "density       8390.243902\n",
       "imm_weight       0.981000\n",
       "dtype: float64"
      ]
     },
     "execution_count": 5,
     "metadata": {},
     "output_type": "execute_result"
    }
   ],
   "source": [
    "grav = 9.81; rho_water = 1000\n",
    "mooringline['density'] = mooringline.mass/mooringline.volume\n",
    "# g*(mass-density_water*volume)/length\n",
    "mooringline['imm_weight'] = grav*(mooringline.mass-rho_water*mooringline.volume)/mooringline.length\n",
    "mooringline"
   ]
  },
  {
   "cell_type": "markdown",
   "metadata": {},
   "source": [
    "### Quiz\n",
    "\n",
    "What was the mooring line made out of?\n",
    " - Lead\n",
    " - Mild steel\n",
    " - Stainless steel\n",
    " - Aluminum\n",
    " \n",
    "---\n",
    "\n",
    "### Reading, describing and plotting data\n",
    "\n",
    "We can also read DataFrames into python use the `read_csv` function. Here is the test matrix we ran for the lab including your comments."
   ]
  },
  {
   "cell_type": "code",
   "execution_count": 6,
   "metadata": {},
   "outputs": [
    {
     "data": {
      "text/html": [
       "<div>\n",
       "<style scoped>\n",
       "    .dataframe tbody tr th:only-of-type {\n",
       "        vertical-align: middle;\n",
       "    }\n",
       "\n",
       "    .dataframe tbody tr th {\n",
       "        vertical-align: top;\n",
       "    }\n",
       "\n",
       "    .dataframe thead th {\n",
       "        text-align: right;\n",
       "    }\n",
       "</style>\n",
       "<table border=\"1\" class=\"dataframe\">\n",
       "  <thead>\n",
       "    <tr style=\"text-align: right;\">\n",
       "      <th></th>\n",
       "      <th>GROUP</th>\n",
       "      <th>RUN</th>\n",
       "      <th>FREQ</th>\n",
       "      <th>AMP</th>\n",
       "      <th>START</th>\n",
       "      <th>STOP</th>\n",
       "      <th>COMMENTS</th>\n",
       "    </tr>\n",
       "  </thead>\n",
       "  <tbody>\n",
       "    <tr>\n",
       "      <th>0</th>\n",
       "      <td>1</td>\n",
       "      <td>1</td>\n",
       "      <td>1.1</td>\n",
       "      <td>0.04</td>\n",
       "      <td>NaN</td>\n",
       "      <td>NaN</td>\n",
       "      <td>NaN</td>\n",
       "    </tr>\n",
       "    <tr>\n",
       "      <th>1</th>\n",
       "      <td>1</td>\n",
       "      <td>2</td>\n",
       "      <td>0.8</td>\n",
       "      <td>0.02</td>\n",
       "      <td>NaN</td>\n",
       "      <td>NaN</td>\n",
       "      <td>NaN</td>\n",
       "    </tr>\n",
       "    <tr>\n",
       "      <th>2</th>\n",
       "      <td>1</td>\n",
       "      <td>3</td>\n",
       "      <td>1.5</td>\n",
       "      <td>0.10</td>\n",
       "      <td>NaN</td>\n",
       "      <td>NaN</td>\n",
       "      <td>ITTC Spectrum (pk at 1.5)</td>\n",
       "    </tr>\n",
       "    <tr>\n",
       "      <th>3</th>\n",
       "      <td>1</td>\n",
       "      <td>4</td>\n",
       "      <td>NaN</td>\n",
       "      <td>NaN</td>\n",
       "      <td>NaN</td>\n",
       "      <td>NaN</td>\n",
       "      <td>ROGUE WAVE</td>\n",
       "    </tr>\n",
       "    <tr>\n",
       "      <th>4</th>\n",
       "      <td>2</td>\n",
       "      <td>5</td>\n",
       "      <td>1.4</td>\n",
       "      <td>0.20</td>\n",
       "      <td>NaN</td>\n",
       "      <td>NaN</td>\n",
       "      <td>TWO CONSECUTIVE RUNS</td>\n",
       "    </tr>\n",
       "    <tr>\n",
       "      <th>5</th>\n",
       "      <td>2</td>\n",
       "      <td>6</td>\n",
       "      <td>1.1</td>\n",
       "      <td>0.08</td>\n",
       "      <td>NaN</td>\n",
       "      <td>NaN</td>\n",
       "      <td>NaN</td>\n",
       "    </tr>\n",
       "    <tr>\n",
       "      <th>6</th>\n",
       "      <td>2</td>\n",
       "      <td>7</td>\n",
       "      <td>1.5</td>\n",
       "      <td>0.15</td>\n",
       "      <td>NaN</td>\n",
       "      <td>NaN</td>\n",
       "      <td>ITTC Spectrum (pk at 1.5)</td>\n",
       "    </tr>\n",
       "    <tr>\n",
       "      <th>7</th>\n",
       "      <td>3</td>\n",
       "      <td>8</td>\n",
       "      <td>0.8</td>\n",
       "      <td>0.04</td>\n",
       "      <td>15:27</td>\n",
       "      <td>NaN</td>\n",
       "      <td>02 RUNS BACK TO BACK</td>\n",
       "    </tr>\n",
       "    <tr>\n",
       "      <th>8</th>\n",
       "      <td>3</td>\n",
       "      <td>9</td>\n",
       "      <td>1.4</td>\n",
       "      <td>0.04</td>\n",
       "      <td>15:30</td>\n",
       "      <td>15:35</td>\n",
       "      <td>NaN</td>\n",
       "    </tr>\n",
       "    <tr>\n",
       "      <th>9</th>\n",
       "      <td>3</td>\n",
       "      <td>10</td>\n",
       "      <td>1.5</td>\n",
       "      <td>0.10</td>\n",
       "      <td>15:36</td>\n",
       "      <td>NaN</td>\n",
       "      <td>ITTC Spectrum (pk at 1.5)</td>\n",
       "    </tr>\n",
       "    <tr>\n",
       "      <th>10</th>\n",
       "      <td>3</td>\n",
       "      <td>11</td>\n",
       "      <td>NaN</td>\n",
       "      <td>NaN</td>\n",
       "      <td>15:44</td>\n",
       "      <td>15:46</td>\n",
       "      <td>ROGUE WAVE</td>\n",
       "    </tr>\n",
       "  </tbody>\n",
       "</table>\n",
       "</div>"
      ],
      "text/plain": [
       "    GROUP  RUN  FREQ   AMP  START   STOP                   COMMENTS\n",
       "0       1    1   1.1  0.04    NaN    NaN                        NaN\n",
       "1       1    2   0.8  0.02    NaN    NaN                        NaN\n",
       "2       1    3   1.5  0.10    NaN    NaN  ITTC Spectrum (pk at 1.5)\n",
       "3       1    4   NaN   NaN    NaN    NaN                 ROGUE WAVE\n",
       "4       2    5   1.4  0.20    NaN    NaN       TWO CONSECUTIVE RUNS\n",
       "5       2    6   1.1  0.08    NaN    NaN                        NaN\n",
       "6       2    7   1.5  0.15    NaN    NaN  ITTC Spectrum (pk at 1.5)\n",
       "7       3    8   0.8  0.04  15:27    NaN       02 RUNS BACK TO BACK\n",
       "8       3    9   1.4  0.04  15:30  15:35                        NaN\n",
       "9       3   10   1.5  0.10  15:36    NaN  ITTC Spectrum (pk at 1.5)\n",
       "10      3   11   NaN   NaN  15:44  15:46                 ROGUE WAVE"
      ]
     },
     "execution_count": 6,
     "metadata": {},
     "output_type": "execute_result"
    }
   ],
   "source": [
    "filename = '../TestMatrix.csv'\n",
    "test_matrix = pd.read_csv(filename)\n",
    "test_matrix"
   ]
  },
  {
   "cell_type": "markdown",
   "metadata": {},
   "source": [
    "\n",
    "### WaveProbe and Data pipelines\n",
    "\n",
    "Now lets start looking at the data. First, let's look a some data from a wave probe."
   ]
  },
  {
   "cell_type": "code",
   "execution_count": 7,
   "metadata": {},
   "outputs": [
    {
     "data": {
      "text/html": [
       "<div>\n",
       "<style scoped>\n",
       "    .dataframe tbody tr th:only-of-type {\n",
       "        vertical-align: middle;\n",
       "    }\n",
       "\n",
       "    .dataframe tbody tr th {\n",
       "        vertical-align: top;\n",
       "    }\n",
       "\n",
       "    .dataframe thead th {\n",
       "        text-align: right;\n",
       "    }\n",
       "</style>\n",
       "<table border=\"1\" class=\"dataframe\">\n",
       "  <thead>\n",
       "    <tr style=\"text-align: right;\">\n",
       "      <th></th>\n",
       "      <th>10/25/2019 13:37:56.260</th>\n",
       "      <th>0.00019</th>\n",
       "      <th>0.00007</th>\n",
       "      <th>Unnamed: 3</th>\n",
       "      <th>Unnamed: 4</th>\n",
       "      <th>341.09</th>\n",
       "    </tr>\n",
       "  </thead>\n",
       "  <tbody>\n",
       "    <tr>\n",
       "      <th>0</th>\n",
       "      <td>10/25/2019 13:37:56.280</td>\n",
       "      <td>0.00019</td>\n",
       "      <td>0.00016</td>\n",
       "      <td>NaN</td>\n",
       "      <td>NaN</td>\n",
       "      <td>341.09</td>\n",
       "    </tr>\n",
       "    <tr>\n",
       "      <th>1</th>\n",
       "      <td>10/25/2019 13:37:56.300</td>\n",
       "      <td>0.00019</td>\n",
       "      <td>0.00007</td>\n",
       "      <td>NaN</td>\n",
       "      <td>NaN</td>\n",
       "      <td>341.09</td>\n",
       "    </tr>\n",
       "    <tr>\n",
       "      <th>2</th>\n",
       "      <td>10/25/2019 13:37:56.320</td>\n",
       "      <td>0.00019</td>\n",
       "      <td>0.00024</td>\n",
       "      <td>NaN</td>\n",
       "      <td>NaN</td>\n",
       "      <td>341.09</td>\n",
       "    </tr>\n",
       "    <tr>\n",
       "      <th>3</th>\n",
       "      <td>10/25/2019 13:37:56.340</td>\n",
       "      <td>0.00019</td>\n",
       "      <td>0.00033</td>\n",
       "      <td>NaN</td>\n",
       "      <td>NaN</td>\n",
       "      <td>341.09</td>\n",
       "    </tr>\n",
       "    <tr>\n",
       "      <th>4</th>\n",
       "      <td>10/25/2019 13:37:56.360</td>\n",
       "      <td>0.00028</td>\n",
       "      <td>0.00016</td>\n",
       "      <td>NaN</td>\n",
       "      <td>NaN</td>\n",
       "      <td>341.09</td>\n",
       "    </tr>\n",
       "  </tbody>\n",
       "</table>\n",
       "</div>"
      ],
      "text/plain": [
       "   10/25/2019 13:37:56.260  0.00019  0.00007  Unnamed: 3  Unnamed: 4  341.09\n",
       "0  10/25/2019 13:37:56.280  0.00019  0.00016         NaN         NaN  341.09\n",
       "1  10/25/2019 13:37:56.300  0.00019  0.00007         NaN         NaN  341.09\n",
       "2  10/25/2019 13:37:56.320  0.00019  0.00024         NaN         NaN  341.09\n",
       "3  10/25/2019 13:37:56.340  0.00019  0.00033         NaN         NaN  341.09\n",
       "4  10/25/2019 13:37:56.360  0.00028  0.00016         NaN         NaN  341.09"
      ]
     },
     "execution_count": 7,
     "metadata": {},
     "output_type": "execute_result"
    }
   ],
   "source": [
    "filename = '../WaveProbe/run2.csv'\n",
    "(pd.read_csv(filename)\n",
    " .head())"
   ]
  },
  {
   "cell_type": "markdown",
   "metadata": {},
   "source": [
    "The `head` function shows us the header and first few rows of a data frame. The wave probe csv doesn't have a header explaining what is in each column, but it recorded the date, time, wave height (in $m$) a few garbage columns, and then the speed of sound (in $m/s$). We will use the `read_waves` function defined in `analysis.py` to tidy this up."
   ]
  },
  {
   "cell_type": "code",
   "execution_count": 8,
   "metadata": {},
   "outputs": [
    {
     "data": {
      "text/html": [
       "<div>\n",
       "<style scoped>\n",
       "    .dataframe tbody tr th:only-of-type {\n",
       "        vertical-align: middle;\n",
       "    }\n",
       "\n",
       "    .dataframe tbody tr th {\n",
       "        vertical-align: top;\n",
       "    }\n",
       "\n",
       "    .dataframe thead th {\n",
       "        text-align: right;\n",
       "    }\n",
       "</style>\n",
       "<table border=\"1\" class=\"dataframe\">\n",
       "  <thead>\n",
       "    <tr style=\"text-align: right;\">\n",
       "      <th></th>\n",
       "      <th>time</th>\n",
       "      <th>eta1</th>\n",
       "      <th>eta2</th>\n",
       "    </tr>\n",
       "  </thead>\n",
       "  <tbody>\n",
       "    <tr>\n",
       "      <th>0</th>\n",
       "      <td>0.00</td>\n",
       "      <td>0.00019</td>\n",
       "      <td>0.00007</td>\n",
       "    </tr>\n",
       "    <tr>\n",
       "      <th>1</th>\n",
       "      <td>0.02</td>\n",
       "      <td>0.00019</td>\n",
       "      <td>0.00016</td>\n",
       "    </tr>\n",
       "    <tr>\n",
       "      <th>2</th>\n",
       "      <td>0.04</td>\n",
       "      <td>0.00019</td>\n",
       "      <td>0.00007</td>\n",
       "    </tr>\n",
       "    <tr>\n",
       "      <th>3</th>\n",
       "      <td>0.06</td>\n",
       "      <td>0.00019</td>\n",
       "      <td>0.00024</td>\n",
       "    </tr>\n",
       "    <tr>\n",
       "      <th>4</th>\n",
       "      <td>0.08</td>\n",
       "      <td>0.00019</td>\n",
       "      <td>0.00033</td>\n",
       "    </tr>\n",
       "  </tbody>\n",
       "</table>\n",
       "</div>"
      ],
      "text/plain": [
       "   time     eta1     eta2\n",
       "0  0.00  0.00019  0.00007\n",
       "1  0.02  0.00019  0.00016\n",
       "2  0.04  0.00019  0.00007\n",
       "3  0.06  0.00019  0.00024\n",
       "4  0.08  0.00019  0.00033"
      ]
     },
     "execution_count": 8,
     "metadata": {},
     "output_type": "execute_result"
    }
   ],
   "source": [
    "(read_waves(filename)\n",
    " .head())"
   ]
  },
  {
   "cell_type": "markdown",
   "metadata": {},
   "source": [
    "Note `time` is measured in seconds from the start of the file, and `eta1` and `eta2` are the two wave probe elevation measurements in meters. Let's plot the data."
   ]
  },
  {
   "cell_type": "code",
   "execution_count": 9,
   "metadata": {},
   "outputs": [
    {
     "data": {
      "image/png": "[encoded data removed]",
      "text/plain": [
       "<Figure size 432x288 with 1 Axes>"
      ]
     },
     "metadata": {
      "needs_background": "light"
     },
     "output_type": "display_data"
    }
   ],
   "source": [
    "(read_waves(filename)\n",
    " .plot(x='time'))\n",
    "plt.show()"
   ]
  },
  {
   "cell_type": "code",
   "execution_count": 10,
   "metadata": {},
   "outputs": [
    {
     "data": {
      "text/html": [
       "<div>\n",
       "<style scoped>\n",
       "    .dataframe tbody tr th:only-of-type {\n",
       "        vertical-align: middle;\n",
       "    }\n",
       "\n",
       "    .dataframe tbody tr th {\n",
       "        vertical-align: top;\n",
       "    }\n",
       "\n",
       "    .dataframe thead th {\n",
       "        text-align: right;\n",
       "    }\n",
       "</style>\n",
       "<table border=\"1\" class=\"dataframe\">\n",
       "  <thead>\n",
       "    <tr style=\"text-align: right;\">\n",
       "      <th></th>\n",
       "      <th>time</th>\n",
       "      <th>eta1</th>\n",
       "      <th>eta2</th>\n",
       "    </tr>\n",
       "  </thead>\n",
       "  <tbody>\n",
       "    <tr>\n",
       "      <th>count</th>\n",
       "      <td>16035.000000</td>\n",
       "      <td>16035.000000</td>\n",
       "      <td>16035.000000</td>\n",
       "    </tr>\n",
       "    <tr>\n",
       "      <th>mean</th>\n",
       "      <td>160.340000</td>\n",
       "      <td>-0.000326</td>\n",
       "      <td>0.000636</td>\n",
       "    </tr>\n",
       "    <tr>\n",
       "      <th>std</th>\n",
       "      <td>92.581002</td>\n",
       "      <td>0.001886</td>\n",
       "      <td>0.001898</td>\n",
       "    </tr>\n",
       "    <tr>\n",
       "      <th>min</th>\n",
       "      <td>0.000000</td>\n",
       "      <td>-0.005350</td>\n",
       "      <td>-0.003810</td>\n",
       "    </tr>\n",
       "    <tr>\n",
       "      <th>25%</th>\n",
       "      <td>80.170000</td>\n",
       "      <td>-0.001430</td>\n",
       "      <td>-0.000660</td>\n",
       "    </tr>\n",
       "    <tr>\n",
       "      <th>50%</th>\n",
       "      <td>160.340000</td>\n",
       "      <td>-0.000400</td>\n",
       "      <td>0.000590</td>\n",
       "    </tr>\n",
       "    <tr>\n",
       "      <th>75%</th>\n",
       "      <td>240.510000</td>\n",
       "      <td>0.000770</td>\n",
       "      <td>0.001850</td>\n",
       "    </tr>\n",
       "    <tr>\n",
       "      <th>max</th>\n",
       "      <td>320.680000</td>\n",
       "      <td>0.004800</td>\n",
       "      <td>0.005240</td>\n",
       "    </tr>\n",
       "  </tbody>\n",
       "</table>\n",
       "</div>"
      ],
      "text/plain": [
       "               time          eta1          eta2\n",
       "count  16035.000000  16035.000000  16035.000000\n",
       "mean     160.340000     -0.000326      0.000636\n",
       "std       92.581002      0.001886      0.001898\n",
       "min        0.000000     -0.005350     -0.003810\n",
       "25%       80.170000     -0.001430     -0.000660\n",
       "50%      160.340000     -0.000400      0.000590\n",
       "75%      240.510000      0.000770      0.001850\n",
       "max      320.680000      0.004800      0.005240"
      ]
     },
     "execution_count": 10,
     "metadata": {},
     "output_type": "execute_result"
    }
   ],
   "source": [
    "read_waves(filename).describe()"
   ]
  },
  {
   "cell_type": "markdown",
   "metadata": {},
   "source": [
    "We can see the data is recorded for five minutes and the elevation varied from $z\\approx \\pm 0.005$ meters. The plot shows a pretty nice wave case. There is a ramp up - a constant elevation section - and then the ramp down around 120 seconds later. But then... we see the same group again (with lower amplitude) after it reflects off the \"beach\".\n",
    "\n",
    "### Quiz\n",
    "\n",
    "Which wave probe was on the carriage?\n",
    "\n",
    "- eta1\n",
    "- eta2\n"
   ]
  },
  {
   "cell_type": "markdown",
   "metadata": {},
   "source": [
    "Let's zoom in on the part of the data we want by `query`ing a range of times"
   ]
  },
  {
   "cell_type": "code",
   "execution_count": 11,
   "metadata": {},
   "outputs": [
    {
     "data": {
      "image/png": "[encoded data removed]",
      "text/plain": [
       "<Figure size 432x288 with 1 Axes>"
      ]
     },
     "metadata": {
      "needs_background": "light"
     },
     "output_type": "display_data"
    }
   ],
   "source": [
    "(read_waves(filename)\n",
    " .query('time>50 & time<120')\n",
    " .plot(x='time'))\n",
    "plt.show()"
   ]
  },
  {
   "cell_type": "markdown",
   "metadata": {},
   "source": [
    "Note that I have __piped__ the results from reading directly into the query and then into the plot function. This is called a _data pipeline_, and it is the best practise for data analysis. It clearly describes all the steps that went into a result and avoids lots of intermediate data structures we don't care about."
   ]
  },
  {
   "cell_type": "code",
   "execution_count": null,
   "metadata": {},
   "outputs": [],
   "source": []
  },
  {
   "cell_type": "code",
   "execution_count": null,
   "metadata": {},
   "outputs": [],
   "source": []
  }
 ],
 "metadata": {
  "kernelspec": {
   "display_name": "Python 3",
   "language": "python",
   "name": "python3"
  },
  "language_info": {
   "codemirror_mode": {
    "name": "ipython",
    "version": 3
   },
   "file_extension": ".py",
   "mimetype": "text/x-python",
   "name": "python",
   "nbconvert_exporter": "python",
   "pygments_lexer": "ipython3",
   "version": "3.7.3"
  }
 },
 "nbformat": 4,
 "nbformat_minor": 2
}
